{
 "cells": [
  {
   "cell_type": "markdown",
   "metadata": {},
   "source": [
    "# IBM Applied Data Science Capstone\n",
    "\n",
    "## Let's apply CRISP (Cross-Industry standart process for data mining) to that problem.\n",
    "\n",
    "# Business Undertanding\n",
    "For problem understanding let's see the situation: You are driving to another city for work or to visit some friends. It is rainy and windy, and on the way, you come across a terrible traffic jam on the other side of the highway. Long lines of cars barely moving. As you keep driving, police car start appearing from afar shutting down the highway. Oh, it is an accident and there's a helicopter transporting the ones involved in the crash to the nearest hospital. They must be in critical condition for all of this to be happening. Now, wouldn't it be great if there is something in place that could warn you, given the weather and the road conditions about the possibility of you getting into a car accident and how severe it would be, so that you would drive more carefully or even change your travel if you are able to.\n",
    "\n",
    "The case study is to predict the severity of an accident.\n",
    "\n",
    "To reduce the frequency of car collisions we have to develope a model to predict the severity of an accident given the current weather, road and visibility conditions. When conditions are bad, this model will say to be more careful.\n",
    "\n",
    "The machine learning model should be able to predict accident \"severity\".\n",
    "\n",
    "# Data Understanding\n",
    "The dataset contain 194673 observations (rows) and 37 attributes (columns). The machine learning model should be able to predict accident \"severity\". The target of prediction is 'SEVERITYCODE' (it is used to measure the severity of an accident). In the dataset there are only 2 variants (1 - prop damage and 2 - injury). But the target or label columns should be accident \"severity\" in terms of human fatality, traffic delay, property damage, or any other type of accident bad impact. The attributes we can use to predict the severity of an accident are 'WEATHER', 'ROADCOND' and 'LIGHTCOND'.\n",
    "\n",
    "# Data Preparation:\n",
    "This dataset is not fit for analysis perfectly. We should not use all attributes for our model.\n",
    "\n",
    "Most of the attributes are text-type, so we should convert them to a numerical type. We should use label encoding to covert the features.\n",
    "\n",
    "The target variable SEVERITYCODE is only 42% balanced. the quantity of severitycode in class 1 is 136485 and the class 2 is 58188. We can fix this by downsampling the class 1."
   ]
  }
 ],
 "metadata": {
  "kernelspec": {
   "display_name": "Python 3",
   "language": "python",
   "name": "python3"
  },
  "language_info": {
   "codemirror_mode": {
    "name": "ipython",
    "version": 3
   },
   "file_extension": ".py",
   "mimetype": "text/x-python",
   "name": "python",
   "nbconvert_exporter": "python",
   "pygments_lexer": "ipython3",
   "version": "3.7.6"
  }
 },
 "nbformat": 4,
 "nbformat_minor": 4
}
